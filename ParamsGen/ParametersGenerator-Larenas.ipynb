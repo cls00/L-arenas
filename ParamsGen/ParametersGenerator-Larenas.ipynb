{
 "cells": [
  {
   "cell_type": "code",
   "execution_count": 1,
   "metadata": {},
   "outputs": [],
   "source": [
    "import random\n",
    "from pathlib import Path\n",
    "\n",
    "Params = []\n",
    "\n",
    "\"\"\" Input Parameters\"\"\"\n",
    "ArenaSize = random.randint(50, 50)\n",
    "Params.append(str(ArenaSize) + \" - Arena Size\")\n",
    "\n",
    "PatchNum = 3\n",
    "Params.append(str(PatchNum) + \" - Number of Patches\")\n",
    "\n",
    "FoodAmount = random.randint(10,20)\n",
    "Params.append(str(FoodAmount) + \" - Initial Food\")\n",
    "\n",
    "FoodProb = round(random.uniform(0.01,0.1),3)\n",
    "Params.append(str(FoodProb) + \" - Chances of food spawning per tick\")\n",
    "\n",
    "EnergyPerBlock = random.randint(100,200)\n",
    "Params.append(str(EnergyPerBlock) + \" - Energy provided by each food blck\")\n",
    "\n",
    "\n",
    "MinCloningEnergy = random.randint(400,400)\n",
    "Params.append(str(MinCloningEnergy) + \" - Minimum Energy Required to create a new clone\")\n",
    "\n",
    "CloneCost = random.randint(50,50)\n",
    "Params.append(str(CloneCost) + \" - Clone energy cost\")\n",
    "\n",
    "StartingEnergy = random.randint(50,50)\n",
    "Params.append(str(StartingEnergy) + \" - Starting Energy\")\n",
    "\n",
    "ActivitiesCost = round(random.uniform(1,1),2)\n",
    "Params.append(str(ActivitiesCost) + \" - Cost of activities like moving or decoding genome\")\n",
    "\n",
    "NearestRadius = random.randint(10,10)\n",
    "Params.append(str(NearestRadius) + \" - Radius of the neighbourhood\")\n",
    "\n",
    "MutationRate = round(random.uniform(0.01, 0.1),3)\n",
    "Params.append(str(MutationRate) + \" - Agent's Mutation Rate\")\n",
    "\n",
    "\n",
    "FoodTypes = [\"basic\", \"oscillating\"]\n",
    "\n",
    "FootType = random.choice(FoodTypes)\n",
    "Params.append(str(FootType) + \" - Food spawning function\")\n",
    "\n",
    "Counter = 0 \n",
    "filename = \"Params\" + str(Counter) + \".txt\"\n",
    "while Path(filename).is_file():\n",
    "    Counter += 1\n",
    "    filename = \"Params\" + str(Counter) + \".txt\"\n",
    "\n",
    "with open(filename, 'a') as fp:\n",
    "    for item in Params:\n",
    "        fp.write(\"%s\\n\" % item)"
   ]
  },
  {
   "cell_type": "code",
   "execution_count": null,
   "metadata": {},
   "outputs": [],
   "source": []
  },
  {
   "cell_type": "code",
   "execution_count": null,
   "metadata": {},
   "outputs": [],
   "source": []
  }
 ],
 "metadata": {
  "kernelspec": {
   "display_name": "Python 3",
   "language": "python",
   "name": "python3"
  },
  "language_info": {
   "codemirror_mode": {
    "name": "ipython",
    "version": 3
   },
   "file_extension": ".py",
   "mimetype": "text/x-python",
   "name": "python",
   "nbconvert_exporter": "python",
   "pygments_lexer": "ipython3",
   "version": "3.7.1"
  }
 },
 "nbformat": 4,
 "nbformat_minor": 2
}
